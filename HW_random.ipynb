{
 "cells": [
  {
   "cell_type": "markdown",
   "metadata": {},
   "source": [
    "Смоделировать игру против лотерейного автомата типа “777”. Игрок платит 1 руб., после чего выпадает случайное целое число, равномерно распределенное от 0 до 999. При некоторых значениях числа игрок получает выигрыш.\n",
    "\n",
    "777: 200 руб.\n",
    "999: 100 руб.\n",
    "555: 50 руб.\n",
    "333: 15 руб.\n",
    "111: 10 руб.\n",
    "*77: 5 руб.\n",
    "**7: 3 руб.\n",
    "*00: 2 руб.\n",
    "**0: 1 руб.\n",
    "\n",
    "Вопросы:\n",
    "\n",
    "Выгодна ли игра игроку?\n",
    "Сколько в среднем приобретает или теряет игрок за одну игру?"
   ]
  },
  {
   "cell_type": "code",
   "execution_count": 3,
   "metadata": {},
   "outputs": [],
   "source": [
    "import numpy as np"
   ]
  },
  {
   "cell_type": "code",
   "execution_count": 4,
   "metadata": {},
   "outputs": [
    {
     "name": "stdout",
     "output_type": "stream",
     "text": [
      "797687 1000000 0.797687 0.81\n"
     ]
    }
   ],
   "source": [
    "trials = 1000000    # Количество попыток\n",
    "successes = 0    # Количество успехов\n",
    "\n",
    "for i in range(trials):\n",
    "    random_score = np.random.randint(0, 1000)    \n",
    "    if random_score == 777:\n",
    "        successes += 200\n",
    "    elif random_score == 999:\n",
    "        successes += 100\n",
    "    elif random_score == 555:\n",
    "        successes += 50\n",
    "    elif random_score == 333:\n",
    "        successes += 15\n",
    "    elif random_score == 111:\n",
    "        successes += 10\n",
    "    elif random_score % 100 == 77:\n",
    "        successes += 5\n",
    "    elif random_score % 10 == 7:\n",
    "        successes += 3\n",
    "    elif random_score % 10 == 0:\n",
    "        successes += 1\n",
    "    elif random_score % 100 == 0:\n",
    "        successes += 2\n",
    "m_monte_carlo = successes / trials    # Вероятность из моделирования\n",
    "m = 200 / 1000 + 100 / 1000 + 50 / 1000 + 15 / 1000 + 10 / 1000 + 5*9 / 1000 + 3*90 / 1000 + 2 / 100 + 1 / 10                       # Теоретическая вероятность\n",
    "\n",
    "print(successes, trials, m_monte_carlo, m)"
   ]
  },
  {
   "cell_type": "markdown",
   "metadata": {},
   "source": [
    "Игра не выгодна для игрока. В среднем игрок приобретает 0.81"
   ]
  },
  {
   "cell_type": "code",
   "execution_count": null,
   "metadata": {},
   "outputs": [],
   "source": []
  }
 ],
 "metadata": {
  "kernelspec": {
   "display_name": "Python 3",
   "language": "python",
   "name": "python3"
  },
  "language_info": {
   "codemirror_mode": {
    "name": "ipython",
    "version": 3
   },
   "file_extension": ".py",
   "mimetype": "text/x-python",
   "name": "python",
   "nbconvert_exporter": "python",
   "pygments_lexer": "ipython3",
   "version": "3.8.5"
  }
 },
 "nbformat": 4,
 "nbformat_minor": 4
}
